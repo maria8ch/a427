{
 "cells": [
  {
   "cell_type": "code",
   "execution_count": 1,
   "metadata": {
    "collapsed": true
   },
   "outputs": [],
   "source": [
    "%matplotlib inline\n",
    "import matplotlib.pyplot as plt\n",
    "import numpy as np\n",
    "import pandas as pd\n",
    "import scipy.optimize as opt"
   ]
  },
  {
   "cell_type": "markdown",
   "metadata": {},
   "source": [
    "# Problem 1"
   ]
  },
  {
   "cell_type": "code",
   "execution_count": 9,
   "metadata": {
    "collapsed": true
   },
   "outputs": [],
   "source": [
    "def minfind_GS(equation, a, c, tol):\n",
    "    '''\n",
    "    This function accepts a defined function, and floats a, c , and tol as input. The output is an array\n",
    "    of r0 values, called r0_array. First, the ratio phi is established, along with a bracket a-c, and a \n",
    "    \"midpoint\" b as a function of a, c and phi. Then, a loop is executed that either narrows the bracket\n",
    "    down or narrows the bracket and \"flips\" it as the algorithm requires, so long as within tolerance.\n",
    "    At the end of action branch the guess x value is appended to the r0 array.\n",
    "    '''\n",
    "    r0_array = []\n",
    "    \n",
    "    phi = (3 - np.sqrt(5))/2\n",
    "    b = a + phi * (c - a)\n",
    "\n",
    "    while np.abs(a - c) > tol:\n",
    "        print(abs(a-c)) #TRQ checking\n",
    "        x = c - phi * (c - a)\n",
    "        if equation(x) < equation(b):\n",
    "            a = b;\n",
    "            b = x;\n",
    "            c = c;\n",
    "            r0_array.append(b)\n",
    "        else:\n",
    "            c = a;\n",
    "            a = x;\n",
    "            b = b;\n",
    "            r0_array.append(a)\n",
    "    \n",
    "    return r0_array"
   ]
  },
  {
   "cell_type": "markdown",
   "metadata": {},
   "source": [
    "# Problem 2"
   ]
  },
  {
   "cell_type": "code",
   "execution_count": 10,
   "metadata": {
    "collapsed": true
   },
   "outputs": [],
   "source": [
    "def E(r0):\n",
    "    '''\n",
    "    This is the least squares formula with our velocity curve function embedded in. It is a function of\n",
    "    r0, and depends on v_obs, v_inf, and r_obs, which are part of the velocity function.\n",
    "    '''\n",
    "\n",
    "    return np.sum((v_obs - (v_inf * (1 - np.exp( -r_obs / r0))))**2)"
   ]
  },
  {
   "cell_type": "code",
   "execution_count": 11,
   "metadata": {
    "collapsed": false
   },
   "outputs": [
    {
     "data": {
      "image/png": "[encoded data removed]",
      "text/plain": [
       "<matplotlib.figure.Figure at 0x7fb368484ac8>"
      ]
     },
     "metadata": {},
     "output_type": "display_data"
    }
   ],
   "source": [
    "# declared all my variables and loaded in data, plotted said data\n",
    "v_inf = 100\n",
    "tol = 1e-8\n",
    "a = 1\n",
    "c = 10\n",
    "data = pd.read_csv('./rot.csv')\n",
    "r_obs = data['r']\n",
    "v_obs = data['v']\n",
    "    \n",
    "fig,ax = plt.subplots(1)\n",
    "fig.tight_layout()\n",
    "ax.scatter(r_obs, v_obs,\n",
    "      color = 'b',\n",
    "      marker = 'o',\n",
    "      # linestyle = 'None', TRQ: this didn't work for me.\n",
    "      label = '\"Raw\" Data')\n",
    "\n",
    "ax.set_xlabel('r_obs', fontsize=18)\n",
    "ax.set_ylabel('v_obs', fontsize=18)\n",
    "ax.set_title('Data vs fit graph', fontsize=24)\n",
    "ax.legend(loc=0);"
   ]
  },
  {
   "cell_type": "code",
   "execution_count": 12,
   "metadata": {
    "collapsed": false
   },
   "outputs": [
    {
     "name": "stdout",
     "output_type": "stream",
     "text": [
      "9\n",
      "5.56230589875\n",
      "3.43769410125\n",
      "2.1246117975\n",
      "1.31308230375\n",
      "0.811529493745\n",
      "0.501552810008\n",
      "0.309976683738\n",
      "0.19157612627\n",
      "0.118400557468\n",
      "0.0731755688021\n",
      "0.0452249886658\n",
      "0.0279505801363\n",
      "0.0172744085295\n",
      "0.0106761716068\n",
      "0.00659823692272\n",
      "0.00407793468406\n",
      "0.00252030223865\n",
      "0.00155763244541\n",
      "0.000962669793243\n",
      "0.000594962652167\n",
      "0.000367707141076\n",
      "0.000227255511091\n",
      "0.000140451629985\n",
      "8.68038811062e-05\n",
      "5.36477488788e-05\n",
      "3.31561322269e-05\n",
      "2.04916166515e-05\n",
      "1.26645155749e-05\n",
      "7.82710107616e-06\n",
      "4.83741449875e-06\n",
      "2.98968657786e-06\n",
      "1.84772792089e-06\n",
      "1.14195865697e-06\n",
      "7.0576926392e-07\n",
      "4.36189393049e-07\n",
      "2.69579870427e-07\n",
      "1.66609522623e-07\n",
      "1.02970347804e-07\n",
      "6.36391748188e-08\n",
      "3.93311729852e-08\n",
      "2.43080018336e-08\n",
      "1.50231711515e-08\n",
      "3.33037810268\n"
     ]
    },
    {
     "data": {
      "image/png": "[encoded data removed]",
      "text/plain": [
       "<matplotlib.figure.Figure at 0x7fb35abdd908>"
      ]
     },
     "metadata": {},
     "output_type": "display_data"
    }
   ],
   "source": [
    "# implement Golden Search, plot the Error function stuff\n",
    "optimal_r0 = minfind_GS(E, a, c, tol)\n",
    "E_r0 = []\n",
    "for r in optimal_r0:\n",
    "    opt_r = E(r)\n",
    "    E_r0.append(opt_r)\n",
    "\n",
    "print(optimal_r0[-1])\n",
    "fig,ax = plt.subplots(1)\n",
    "fig.tight_layout()\n",
    "\n",
    "\n",
    "ax.plot(optimal_r0, E_r0, \n",
    "        marker = '.',\n",
    "        color = 'k',\n",
    "        linestyle= 'None',\n",
    "        label = \"Errors\")\n",
    "ax.plot(optimal_r0[-1], E_r0[-1],\n",
    "        marker = 'o',\n",
    "        color = 'g',\n",
    "       label = 'best minima')\n",
    "\n",
    "ax.set_xlabel('r_0', fontsize=18)\n",
    "ax.set_ylabel('E(r_0)', fontsize=18)\n",
    "ax.set_title('r_0 vs E(r_0) graph', fontsize=24)\n",
    "ax.legend(loc=0);"
   ]
  },
  {
   "cell_type": "markdown",
   "metadata": {},
   "source": [
    "# Problem 3"
   ]
  },
  {
   "cell_type": "code",
   "execution_count": 13,
   "metadata": {
    "collapsed": true
   },
   "outputs": [],
   "source": [
    "def Eboi(x):\n",
    "    '''\n",
    "    Eboi is a function that takes in x, a np.array() with v_inf and r0 guesses in that order. It breaks\n",
    "    the array into two, gets all the variables that E(r0) needed to work, and calls it. This function is\n",
    "    needed for Powell's method to work so it can simultaneously establish an optimal v_inf and r0. Output\n",
    "    is E evaluated at all the variables we set up.\n",
    "    '''\n",
    "    v_inf = x[0]\n",
    "    r0 = x[1]\n",
    "    data = pd.read_csv('./rot.csv')\n",
    "    r_obs = data['r']\n",
    "    v_obs = data['v']\n",
    "    E = np.sum((v_obs - (v_inf * (1 - np.exp( -r_obs / r0))))**2)\n",
    "    return E"
   ]
  },
  {
   "cell_type": "code",
   "execution_count": 14,
   "metadata": {
    "collapsed": true
   },
   "outputs": [],
   "source": [
    "x = np.array([100, 3])"
   ]
  },
  {
   "cell_type": "code",
   "execution_count": 15,
   "metadata": {
    "collapsed": false
   },
   "outputs": [
    {
     "data": {
      "text/plain": [
       "   direc: array([[ 0.        ,  1.        ],\n",
       "       [ 9.63427009,  0.70680212]])\n",
       "     fun: array(425.87989690417186)\n",
       " message: 'Optimization terminated successfully.'\n",
       "    nfev: 94\n",
       "     nit: 4\n",
       "  status: 0\n",
       " success: True\n",
       "       x: array([ 110.77932243,    4.1642636 ])"
      ]
     },
     "execution_count": 15,
     "metadata": {},
     "output_type": "execute_result"
    }
   ],
   "source": [
    "opt.minimize(Eboi, x, method='Powell')"
   ]
  },
  {
   "cell_type": "code",
   "execution_count": 16,
   "metadata": {
    "collapsed": false
   },
   "outputs": [
    {
     "name": "stdout",
     "output_type": "stream",
     "text": [
      "25.038763515866425 38.80878666666667 10.779322429999993\n"
     ]
    }
   ],
   "source": [
    "one_1 = ((4.1642636 - 3.330378102684603) / 3.330378102684603) * 100\n",
    "one_2 = ((4.1642636 - 3) / 3) * 100\n",
    "two = ((110.77932243 - 100) / 100) * 100\n",
    "print(one_1, one_2, two)"
   ]
  },
  {
   "cell_type": "markdown",
   "metadata": {},
   "source": [
    "Funny enough, when v_inf is relaxed, it is quite off in both v_inf and r0, versus my minimizer with v_inf set at 100. Golden search method minimized the r0 to 3.33, versus the Powell's 4.16. The v_inf is 10% off, and r0 is 25% off relative to my 3.33 value, and 38% relative to the actual value of 3. Not too bad, but not excellent? What is the \"goodness\" benchmark for this kind of stuff?"
   ]
  },
  {
   "cell_type": "code",
   "execution_count": null,
   "metadata": {
    "collapsed": true
   },
   "outputs": [],
   "source": []
  }
 ],
 "metadata": {
  "anaconda-cloud": {},
  "kernelspec": {
   "display_name": "Python [default]",
   "language": "python",
   "name": "python3"
  },
  "language_info": {
   "codemirror_mode": {
    "name": "ipython",
    "version": 3
   },
   "file_extension": ".py",
   "mimetype": "text/x-python",
   "name": "python",
   "nbconvert_exporter": "python",
   "pygments_lexer": "ipython3",
   "version": "3.5.2"
  }
 },
 "nbformat": 4,
 "nbformat_minor": 4
}
