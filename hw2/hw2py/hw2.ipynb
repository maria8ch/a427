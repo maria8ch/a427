{
 "cells": [
  {
   "cell_type": "code",
   "execution_count": 10,
   "metadata": {},
   "outputs": [],
   "source": [
    "import numpy as np\n",
    "from scipy.integrate import ode\n",
    "import matplotlib as plt\n",
    "import sys\n",
    "import csv"
   ]
  },
  {
   "cell_type": "markdown",
   "metadata": {},
   "source": [
    "## Problem 1\n",
    "Write a program (or programs) to integrate up to four sets of coupled differential equations (so it can handle the problems below) using\n",
    "the Euler method, fourth order Runge-Kutta, and Leapfrog. (Note:\n",
    "Leapfrog only applies to special cases.) For Runge-Kutta, you may use\n",
    "a packaged routine such as available in scipy or Numerical Recipes. If\n",
    "you do used a packaged routine, be sure to use one with a fixed\n",
    "timestep and order so that testing the convergence can be\n",
    "easily performed."
   ]
  },
  {
   "cell_type": "code",
   "execution_count": 44,
   "metadata": {},
   "outputs": [],
   "source": [
    "# this is the derivative function that the methods expect, as explained in class\n",
    "def y_prime(y):\n",
    "    dydt = np.array([y[1] , -y[0]])\n",
    "    return dydt;"
   ]
  },
  {
   "cell_type": "code",
   "execution_count": 45,
   "metadata": {},
   "outputs": [],
   "source": [
    "# inputs need the derivative, the current y, and step h\n",
    "def euler(y_prime, y, h):\n",
    "    y = np.array(y)\n",
    "    y_n1 = y + (h * y_prime(y))\n",
    "    return y_n1;"
   ]
  },
  {
   "cell_type": "code",
   "execution_count": 43,
   "metadata": {},
   "outputs": [],
   "source": [
    "def FourRungeKutta(y_prime, y, h):\n",
    "    k1 = h * y_prime(y);\n",
    "    k2 = h * y_prime(y + k1/2);\n",
    "    k3 = h * y_prime(y + k2/2);\n",
    "    k4 = h * y_prime(y + k3/2);    \n",
    "    y_n1 = y[0] + (k1/6) + (k2/3) + (k3/3) + (k4/6)\n",
    "    return y_n1;"
   ]
  },
  {
   "cell_type": "code",
   "execution_count": 42,
   "metadata": {},
   "outputs": [
    {
     "ename": "SyntaxError",
     "evalue": "invalid syntax (<ipython-input-42-19e4f217abc7>, line 5)",
     "output_type": "error",
     "traceback": [
      "\u001b[0;36m  File \u001b[0;32m\"<ipython-input-42-19e4f217abc7>\"\u001b[0;36m, line \u001b[0;32m5\u001b[0m\n\u001b[0;31m    return y_n1;\u001b[0m\n\u001b[0m         ^\u001b[0m\n\u001b[0;31mSyntaxError\u001b[0m\u001b[0;31m:\u001b[0m invalid syntax\n"
     ]
    }
   ],
   "source": [
    "def LeapFrog(y_prime, y, h):\n",
    "    v_nhalf = vn + h/2*(y_prime(y_prime(x_n)))\n",
    "    x_nplus1 = xn + h/2*(y_prime(vnhalf))\n",
    "    v_nplus1 = v_nhalf + h/2*(y_prim(y_prime(x_nplus1))\n",
    "    return y_n1;"
   ]
  },
  {
   "cell_type": "markdown",
   "metadata": {},
   "source": [
    "## Problem 2\n",
    "\n",
    "Use your program to solve the differential equation for x(t):\n",
    "d^2/dt^2 + x = 0;\n",
    "with the initial conditions x(0) = 1, x0(0) = 0. Note that this has the analytical solution: x = cos(t)\n",
    "\n",
    "(a) Integrate the equation for 0 ≤ t ≤ 30 using each of the methods, and step sizes of 1, .3, .1, .03, and .01. Comment on the behavior of the solutions.\n",
    "\n",
    "(b) Plot log(|xnumerical(30)−xexact(30)|) as a function of log(stepsize) and check for the expected convergence of the error term."
   ]
  },
  {
   "cell_type": "code",
   "execution_count": 50,
   "metadata": {},
   "outputs": [
    {
     "name": "stdout",
     "output_type": "stream",
     "text": [
      "32768\n"
     ]
    }
   ],
   "source": [
    "## Part a\n",
    "yo = [1,0]\n",
    "h = 1\n",
    "ti = 0\n",
    "tf = 30\n",
    "\n",
    "#Using Euler Method\n",
    "\n",
    "y = yo\n",
    "t = ti\n",
    "#continues to call the Euler function for a desired interval\n",
    "#and prints the predicted final y-value\n",
    "while t <= tf:\n",
    "    y_new = euler(y_prime , y , h)\n",
    "    y = y_new\n",
    "    t += h\n",
    "print(y[0])"
   ]
  },
  {
   "cell_type": "code",
   "execution_count": null,
   "metadata": {},
   "outputs": [],
   "source": [
    "## Part b\n",
    "\n",
    "plt.somethinghere()"
   ]
  },
  {
   "cell_type": "code",
   "execution_count": null,
   "metadata": {},
   "outputs": [],
   "source": []
  },
  {
   "cell_type": "markdown",
   "metadata": {},
   "source": [
    "## Problem 3 \n",
    "Now try the two dimensional orbit described by the potential:\n",
    "\n",
    "phi = -1/sqrt(1+x^2+y^2)\n",
    "\n",
    "The orbits are given by the coupled differential equations:\n",
    "\n",
    "d^2y/dt^2 = − y/ (1 + x^2 + y^2)^(3/2)\n",
    "\n",
    "\n",
    "d^2x/dt^2 = − x/ (1 + x^2 + y^2)^(3/2)\n",
    " \n",
    "(a) Integrate this for 0 ≤ t ≤ 100 for the initial conditions x = 1, y = 0, x' = 0, y' = 0.3. Try this with either Leapfrog or Runge-Kutta and step sizes from .01 to 1. Plot x vs. y for these integrations.\n",
    "\n",
    "(b) Plot the energy E = (x'^2 + y'^2)/2 + Φ(x, y) as a function of time for your integrations."
   ]
  },
  {
   "cell_type": "code",
   "execution_count": null,
   "metadata": {},
   "outputs": [],
   "source": []
  },
  {
   "cell_type": "code",
   "execution_count": null,
   "metadata": {},
   "outputs": [],
   "source": []
  },
  {
   "cell_type": "code",
   "execution_count": null,
   "metadata": {},
   "outputs": [],
   "source": []
  },
  {
   "cell_type": "code",
   "execution_count": null,
   "metadata": {},
   "outputs": [],
   "source": []
  },
  {
   "cell_type": "code",
   "execution_count": null,
   "metadata": {},
   "outputs": [],
   "source": []
  },
  {
   "cell_type": "code",
   "execution_count": null,
   "metadata": {},
   "outputs": [],
   "source": []
  }
 ],
 "metadata": {
  "kernelspec": {
   "display_name": "Python 3",
   "language": "python",
   "name": "python3"
  },
  "language_info": {
   "codemirror_mode": {
    "name": "ipython",
    "version": 3
   },
   "file_extension": ".py",
   "mimetype": "text/x-python",
   "name": "python",
   "nbconvert_exporter": "python",
   "pygments_lexer": "ipython3",
   "version": "3.7.6"
  }
 },
 "nbformat": 4,
 "nbformat_minor": 4
}
